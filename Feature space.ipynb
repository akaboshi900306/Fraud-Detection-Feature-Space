{
 "cells": [
  {
   "cell_type": "code",
   "execution_count": 1,
   "metadata": {},
   "outputs": [],
   "source": [
    "import pandas as pd\n",
    "import numpy as np \n",
    "import warnings\n",
    "import matplotlib.pyplot as plt\n",
    "\n",
    "warnings.filterwarnings(\"ignore\")\n",
    "pd.set_option('display.float_format', lambda x: '%.1f' % x)"
   ]
  },
  {
   "cell_type": "code",
   "execution_count": 2,
   "metadata": {},
   "outputs": [],
   "source": [
    "labels = pd.read_csv(\"C:/Users/akabo/Downloads/data challenger/data-new/data-new/labels_obf.csv\")\n",
    "transaction = pd.read_csv(\"C:/Users/akabo/Downloads/data challenger/data-new/data-new/transactions_obf.csv\")"
   ]
  },
  {
   "cell_type": "code",
   "execution_count": 708,
   "metadata": {},
   "outputs": [
    {
     "data": {
      "text/html": [
       "<div>\n",
       "<style scoped>\n",
       "    .dataframe tbody tr th:only-of-type {\n",
       "        vertical-align: middle;\n",
       "    }\n",
       "\n",
       "    .dataframe tbody tr th {\n",
       "        vertical-align: top;\n",
       "    }\n",
       "\n",
       "    .dataframe thead th {\n",
       "        text-align: right;\n",
       "    }\n",
       "</style>\n",
       "<table border=\"1\" class=\"dataframe\">\n",
       "  <thead>\n",
       "    <tr style=\"text-align: right;\">\n",
       "      <th></th>\n",
       "      <th>reportedTime</th>\n",
       "      <th>eventId</th>\n",
       "    </tr>\n",
       "  </thead>\n",
       "  <tbody>\n",
       "    <tr>\n",
       "      <th>0</th>\n",
       "      <td>2017-01-04T00:00:00Z</td>\n",
       "      <td>101536329A1</td>\n",
       "    </tr>\n",
       "    <tr>\n",
       "      <th>1</th>\n",
       "      <td>2017-01-04T00:00:00Z</td>\n",
       "      <td>101536425A1</td>\n",
       "    </tr>\n",
       "    <tr>\n",
       "      <th>2</th>\n",
       "      <td>2017-01-04T00:00:00Z</td>\n",
       "      <td>101536473A1</td>\n",
       "    </tr>\n",
       "    <tr>\n",
       "      <th>3</th>\n",
       "      <td>2017-01-04T00:00:00Z</td>\n",
       "      <td>101536617A1</td>\n",
       "    </tr>\n",
       "    <tr>\n",
       "      <th>4</th>\n",
       "      <td>2017-01-04T00:00:00Z</td>\n",
       "      <td>101536761A1</td>\n",
       "    </tr>\n",
       "  </tbody>\n",
       "</table>\n",
       "</div>"
      ],
      "text/plain": [
       "           reportedTime      eventId\n",
       "0  2017-01-04T00:00:00Z  101536329A1\n",
       "1  2017-01-04T00:00:00Z  101536425A1\n",
       "2  2017-01-04T00:00:00Z  101536473A1\n",
       "3  2017-01-04T00:00:00Z  101536617A1\n",
       "4  2017-01-04T00:00:00Z  101536761A1"
      ]
     },
     "execution_count": 708,
     "metadata": {},
     "output_type": "execute_result"
    }
   ],
   "source": [
    "labels.head()"
   ]
  },
  {
   "cell_type": "code",
   "execution_count": 709,
   "metadata": {},
   "outputs": [
    {
     "data": {
      "text/html": [
       "<div>\n",
       "<style scoped>\n",
       "    .dataframe tbody tr th:only-of-type {\n",
       "        vertical-align: middle;\n",
       "    }\n",
       "\n",
       "    .dataframe tbody tr th {\n",
       "        vertical-align: top;\n",
       "    }\n",
       "\n",
       "    .dataframe thead th {\n",
       "        text-align: right;\n",
       "    }\n",
       "</style>\n",
       "<table border=\"1\" class=\"dataframe\">\n",
       "  <thead>\n",
       "    <tr style=\"text-align: right;\">\n",
       "      <th></th>\n",
       "      <th>transactionTime</th>\n",
       "      <th>eventId</th>\n",
       "      <th>accountNumber</th>\n",
       "      <th>merchantId</th>\n",
       "      <th>mcc</th>\n",
       "      <th>merchantCountry</th>\n",
       "      <th>merchantZip</th>\n",
       "      <th>posEntryMode</th>\n",
       "      <th>transactionAmount</th>\n",
       "      <th>availableCash</th>\n",
       "    </tr>\n",
       "  </thead>\n",
       "  <tbody>\n",
       "    <tr>\n",
       "      <th>0</th>\n",
       "      <td>2017-01-01T00:00:00Z</td>\n",
       "      <td>18688431A1</td>\n",
       "      <td>94f9b4e7</td>\n",
       "      <td>b76d06</td>\n",
       "      <td>5968</td>\n",
       "      <td>826</td>\n",
       "      <td>CR0</td>\n",
       "      <td>1</td>\n",
       "      <td>10.7</td>\n",
       "      <td>7500</td>\n",
       "    </tr>\n",
       "    <tr>\n",
       "      <th>1</th>\n",
       "      <td>2017-01-01T00:49:03Z</td>\n",
       "      <td>2164986A1</td>\n",
       "      <td>648e19cf</td>\n",
       "      <td>718cc6</td>\n",
       "      <td>5499</td>\n",
       "      <td>826</td>\n",
       "      <td>DE14</td>\n",
       "      <td>81</td>\n",
       "      <td>21.2</td>\n",
       "      <td>4500</td>\n",
       "    </tr>\n",
       "    <tr>\n",
       "      <th>2</th>\n",
       "      <td>2017-01-01T00:43:17Z</td>\n",
       "      <td>31294145A1</td>\n",
       "      <td>c0ffab1b</td>\n",
       "      <td>94cafc</td>\n",
       "      <td>5735</td>\n",
       "      <td>442</td>\n",
       "      <td>NaN</td>\n",
       "      <td>81</td>\n",
       "      <td>5.0</td>\n",
       "      <td>9500</td>\n",
       "    </tr>\n",
       "    <tr>\n",
       "      <th>3</th>\n",
       "      <td>2017-01-01T00:15:07Z</td>\n",
       "      <td>11162049A1</td>\n",
       "      <td>038099dd</td>\n",
       "      <td>7d5803</td>\n",
       "      <td>5499</td>\n",
       "      <td>826</td>\n",
       "      <td>NR1</td>\n",
       "      <td>81</td>\n",
       "      <td>21.0</td>\n",
       "      <td>7500</td>\n",
       "    </tr>\n",
       "    <tr>\n",
       "      <th>4</th>\n",
       "      <td>2017-01-01T00:37:09Z</td>\n",
       "      <td>17067235A1</td>\n",
       "      <td>3130363b</td>\n",
       "      <td>12ca76</td>\n",
       "      <td>5411</td>\n",
       "      <td>826</td>\n",
       "      <td>M50</td>\n",
       "      <td>81</td>\n",
       "      <td>47.0</td>\n",
       "      <td>10500</td>\n",
       "    </tr>\n",
       "  </tbody>\n",
       "</table>\n",
       "</div>"
      ],
      "text/plain": [
       "        transactionTime     eventId accountNumber merchantId   mcc  \\\n",
       "0  2017-01-01T00:00:00Z  18688431A1      94f9b4e7     b76d06  5968   \n",
       "1  2017-01-01T00:49:03Z   2164986A1      648e19cf     718cc6  5499   \n",
       "2  2017-01-01T00:43:17Z  31294145A1      c0ffab1b     94cafc  5735   \n",
       "3  2017-01-01T00:15:07Z  11162049A1      038099dd     7d5803  5499   \n",
       "4  2017-01-01T00:37:09Z  17067235A1      3130363b     12ca76  5411   \n",
       "\n",
       "   merchantCountry merchantZip  posEntryMode  transactionAmount  availableCash  \n",
       "0              826         CR0             1               10.7           7500  \n",
       "1              826        DE14            81               21.2           4500  \n",
       "2              442         NaN            81                5.0           9500  \n",
       "3              826         NR1            81               21.0           7500  \n",
       "4              826         M50            81               47.0          10500  "
      ]
     },
     "execution_count": 709,
     "metadata": {},
     "output_type": "execute_result"
    }
   ],
   "source": [
    "transaction.head()"
   ]
  },
  {
   "cell_type": "code",
   "execution_count": 710,
   "metadata": {},
   "outputs": [],
   "source": [
    "# Firstly we join the data set by eventId\n",
    "tran=transaction.join(labels.set_index('eventId'), on='eventId')"
   ]
  },
  {
   "cell_type": "code",
   "execution_count": 711,
   "metadata": {},
   "outputs": [
    {
     "data": {
      "text/plain": [
       "(118621, 11)"
      ]
     },
     "execution_count": 711,
     "metadata": {},
     "output_type": "execute_result"
    }
   ],
   "source": [
    "tran.shape"
   ]
  },
  {
   "cell_type": "code",
   "execution_count": 712,
   "metadata": {},
   "outputs": [
    {
     "data": {
      "text/html": [
       "<div>\n",
       "<style scoped>\n",
       "    .dataframe tbody tr th:only-of-type {\n",
       "        vertical-align: middle;\n",
       "    }\n",
       "\n",
       "    .dataframe tbody tr th {\n",
       "        vertical-align: top;\n",
       "    }\n",
       "\n",
       "    .dataframe thead th {\n",
       "        text-align: right;\n",
       "    }\n",
       "</style>\n",
       "<table border=\"1\" class=\"dataframe\">\n",
       "  <thead>\n",
       "    <tr style=\"text-align: right;\">\n",
       "      <th></th>\n",
       "      <th>transactionTime</th>\n",
       "      <th>eventId</th>\n",
       "      <th>accountNumber</th>\n",
       "      <th>merchantId</th>\n",
       "      <th>mcc</th>\n",
       "      <th>merchantCountry</th>\n",
       "      <th>merchantZip</th>\n",
       "      <th>posEntryMode</th>\n",
       "      <th>transactionAmount</th>\n",
       "      <th>availableCash</th>\n",
       "      <th>reportedTime</th>\n",
       "    </tr>\n",
       "  </thead>\n",
       "  <tbody>\n",
       "    <tr>\n",
       "      <th>0</th>\n",
       "      <td>2017-01-01T00:00:00Z</td>\n",
       "      <td>18688431A1</td>\n",
       "      <td>94f9b4e7</td>\n",
       "      <td>b76d06</td>\n",
       "      <td>5968</td>\n",
       "      <td>826</td>\n",
       "      <td>CR0</td>\n",
       "      <td>1</td>\n",
       "      <td>10.7</td>\n",
       "      <td>7500</td>\n",
       "      <td>NaN</td>\n",
       "    </tr>\n",
       "    <tr>\n",
       "      <th>1</th>\n",
       "      <td>2017-01-01T00:49:03Z</td>\n",
       "      <td>2164986A1</td>\n",
       "      <td>648e19cf</td>\n",
       "      <td>718cc6</td>\n",
       "      <td>5499</td>\n",
       "      <td>826</td>\n",
       "      <td>DE14</td>\n",
       "      <td>81</td>\n",
       "      <td>21.2</td>\n",
       "      <td>4500</td>\n",
       "      <td>NaN</td>\n",
       "    </tr>\n",
       "    <tr>\n",
       "      <th>2</th>\n",
       "      <td>2017-01-01T00:43:17Z</td>\n",
       "      <td>31294145A1</td>\n",
       "      <td>c0ffab1b</td>\n",
       "      <td>94cafc</td>\n",
       "      <td>5735</td>\n",
       "      <td>442</td>\n",
       "      <td>NaN</td>\n",
       "      <td>81</td>\n",
       "      <td>5.0</td>\n",
       "      <td>9500</td>\n",
       "      <td>NaN</td>\n",
       "    </tr>\n",
       "    <tr>\n",
       "      <th>3</th>\n",
       "      <td>2017-01-01T00:15:07Z</td>\n",
       "      <td>11162049A1</td>\n",
       "      <td>038099dd</td>\n",
       "      <td>7d5803</td>\n",
       "      <td>5499</td>\n",
       "      <td>826</td>\n",
       "      <td>NR1</td>\n",
       "      <td>81</td>\n",
       "      <td>21.0</td>\n",
       "      <td>7500</td>\n",
       "      <td>NaN</td>\n",
       "    </tr>\n",
       "    <tr>\n",
       "      <th>4</th>\n",
       "      <td>2017-01-01T00:37:09Z</td>\n",
       "      <td>17067235A1</td>\n",
       "      <td>3130363b</td>\n",
       "      <td>12ca76</td>\n",
       "      <td>5411</td>\n",
       "      <td>826</td>\n",
       "      <td>M50</td>\n",
       "      <td>81</td>\n",
       "      <td>47.0</td>\n",
       "      <td>10500</td>\n",
       "      <td>NaN</td>\n",
       "    </tr>\n",
       "  </tbody>\n",
       "</table>\n",
       "</div>"
      ],
      "text/plain": [
       "        transactionTime     eventId accountNumber merchantId   mcc  \\\n",
       "0  2017-01-01T00:00:00Z  18688431A1      94f9b4e7     b76d06  5968   \n",
       "1  2017-01-01T00:49:03Z   2164986A1      648e19cf     718cc6  5499   \n",
       "2  2017-01-01T00:43:17Z  31294145A1      c0ffab1b     94cafc  5735   \n",
       "3  2017-01-01T00:15:07Z  11162049A1      038099dd     7d5803  5499   \n",
       "4  2017-01-01T00:37:09Z  17067235A1      3130363b     12ca76  5411   \n",
       "\n",
       "   merchantCountry merchantZip  posEntryMode  transactionAmount  \\\n",
       "0              826         CR0             1               10.7   \n",
       "1              826        DE14            81               21.2   \n",
       "2              442         NaN            81                5.0   \n",
       "3              826         NR1            81               21.0   \n",
       "4              826         M50            81               47.0   \n",
       "\n",
       "   availableCash reportedTime  \n",
       "0           7500          NaN  \n",
       "1           4500          NaN  \n",
       "2           9500          NaN  \n",
       "3           7500          NaN  \n",
       "4          10500          NaN  "
      ]
     },
     "execution_count": 712,
     "metadata": {},
     "output_type": "execute_result"
    }
   ],
   "source": [
    "tran.head()"
   ]
  },
  {
   "cell_type": "code",
   "execution_count": 713,
   "metadata": {},
   "outputs": [
    {
     "data": {
      "text/plain": [
       "transactionTime           0\n",
       "eventId                   0\n",
       "accountNumber             0\n",
       "merchantId                0\n",
       "mcc                       0\n",
       "merchantCountry           0\n",
       "merchantZip           23005\n",
       "posEntryMode              0\n",
       "transactionAmount         0\n",
       "availableCash             0\n",
       "reportedTime         117746\n",
       "dtype: int64"
      ]
     },
     "execution_count": 713,
     "metadata": {},
     "output_type": "execute_result"
    }
   ],
   "source": [
    "# lets have a look of the null/nan values in the data set. It seems that we should drop column \"merchantZip\"\n",
    "tran.apply(lambda x : x.isnull().sum())"
   ]
  },
  {
   "cell_type": "code",
   "execution_count": 714,
   "metadata": {},
   "outputs": [
    {
     "data": {
      "text/plain": [
       "count   118621.0\n",
       "mean        53.7\n",
       "std        183.7\n",
       "min         -0.1\n",
       "25%          8.0\n",
       "50%         20.2\n",
       "75%         49.0\n",
       "max      13348.0\n",
       "Name: transactionAmount, dtype: float64"
      ]
     },
     "execution_count": 714,
     "metadata": {},
     "output_type": "execute_result"
    }
   ],
   "source": [
    "# let's have a look of the transactionAmount, we can see that the min is negative which makes no sense. \n",
    "tran.transactionAmount.describe()"
   ]
  },
  {
   "cell_type": "code",
   "execution_count": 715,
   "metadata": {},
   "outputs": [],
   "source": [
    "# We assign the transactionAmount which is negative as 0 \n",
    "tran.loc[tran[\"transactionAmount\"]<0,\"transactionAmount\"] =0"
   ]
  },
  {
   "cell_type": "code",
   "execution_count": 716,
   "metadata": {},
   "outputs": [
    {
     "data": {
      "text/plain": [
       "<matplotlib.axes._subplots.AxesSubplot at 0x15dc1dccd30>"
      ]
     },
     "execution_count": 716,
     "metadata": {},
     "output_type": "execute_result"
    },
    {
     "data": {
      "image/png": "[encoded data removed]",
      "text/plain": [
       "<Figure size 648x216 with 2 Axes>"
      ]
     },
     "metadata": {},
     "output_type": "display_data"
    }
   ],
   "source": [
    "# Try to draw the plot of distrbution of transactionAmount & availableCash\n",
    "#\"transactionAmount\" are left skewed, need transformation to a normal distribution for parametric models\n",
    "import seaborn as sns\n",
    "f, axes = plt.subplots(1, 2, figsize=(9, 3), sharex=True)\n",
    "sns.distplot(tran[[\"transactionAmount\"]],color=\"blue\", ax=axes[0])\n",
    "sns.distplot(tran[[\"availableCash\"]], color=\"red\", ax=axes[1])"
   ]
  },
  {
   "cell_type": "code",
   "execution_count": 717,
   "metadata": {},
   "outputs": [
    {
     "data": {
      "text/plain": [
       "<matplotlib.axes._subplots.AxesSubplot at 0x15db81a1ef0>"
      ]
     },
     "execution_count": 717,
     "metadata": {},
     "output_type": "execute_result"
    },
    {
     "data": {
      "image/png": "[encoded data removed]",
      "text/plain": [
       "<Figure size 648x216 with 2 Axes>"
      ]
     },
     "metadata": {},
     "output_type": "display_data"
    }
   ],
   "source": [
    "# use sqrt, log too strong\n",
    "f, axes = plt.subplots(1, 2, figsize=(9, 3), sharex=True)\n",
    "sns.distplot(np.sqrt(tran[[\"transactionAmount\"]]),color=\"blue\", ax=axes[0])"
   ]
  },
  {
   "cell_type": "markdown",
   "metadata": {},
   "source": [
    "# Data cleaning"
   ]
  },
  {
   "cell_type": "code",
   "execution_count": 718,
   "metadata": {},
   "outputs": [
    {
     "data": {
      "text/html": [
       "<div>\n",
       "<style scoped>\n",
       "    .dataframe tbody tr th:only-of-type {\n",
       "        vertical-align: middle;\n",
       "    }\n",
       "\n",
       "    .dataframe tbody tr th {\n",
       "        vertical-align: top;\n",
       "    }\n",
       "\n",
       "    .dataframe thead th {\n",
       "        text-align: right;\n",
       "    }\n",
       "</style>\n",
       "<table border=\"1\" class=\"dataframe\">\n",
       "  <thead>\n",
       "    <tr style=\"text-align: right;\">\n",
       "      <th></th>\n",
       "      <th>transactionTime</th>\n",
       "      <th>eventId</th>\n",
       "      <th>accountNumber</th>\n",
       "      <th>merchantId</th>\n",
       "      <th>mcc</th>\n",
       "      <th>merchantCountry</th>\n",
       "      <th>merchantZip</th>\n",
       "      <th>posEntryMode</th>\n",
       "      <th>transactionAmount</th>\n",
       "      <th>availableCash</th>\n",
       "      <th>reportedTime</th>\n",
       "    </tr>\n",
       "  </thead>\n",
       "  <tbody>\n",
       "    <tr>\n",
       "      <th>0</th>\n",
       "      <td>2017-01-01T00:00:00Z</td>\n",
       "      <td>18688431A1</td>\n",
       "      <td>94f9b4e7</td>\n",
       "      <td>b76d06</td>\n",
       "      <td>5968</td>\n",
       "      <td>826</td>\n",
       "      <td>CR0</td>\n",
       "      <td>1</td>\n",
       "      <td>10.7</td>\n",
       "      <td>7500</td>\n",
       "      <td>0</td>\n",
       "    </tr>\n",
       "    <tr>\n",
       "      <th>1</th>\n",
       "      <td>2017-01-01T00:49:03Z</td>\n",
       "      <td>2164986A1</td>\n",
       "      <td>648e19cf</td>\n",
       "      <td>718cc6</td>\n",
       "      <td>5499</td>\n",
       "      <td>826</td>\n",
       "      <td>DE14</td>\n",
       "      <td>81</td>\n",
       "      <td>21.2</td>\n",
       "      <td>4500</td>\n",
       "      <td>0</td>\n",
       "    </tr>\n",
       "    <tr>\n",
       "      <th>2</th>\n",
       "      <td>2017-01-01T00:43:17Z</td>\n",
       "      <td>31294145A1</td>\n",
       "      <td>c0ffab1b</td>\n",
       "      <td>94cafc</td>\n",
       "      <td>5735</td>\n",
       "      <td>442</td>\n",
       "      <td>NaN</td>\n",
       "      <td>81</td>\n",
       "      <td>5.0</td>\n",
       "      <td>9500</td>\n",
       "      <td>0</td>\n",
       "    </tr>\n",
       "    <tr>\n",
       "      <th>3</th>\n",
       "      <td>2017-01-01T00:15:07Z</td>\n",
       "      <td>11162049A1</td>\n",
       "      <td>038099dd</td>\n",
       "      <td>7d5803</td>\n",
       "      <td>5499</td>\n",
       "      <td>826</td>\n",
       "      <td>NR1</td>\n",
       "      <td>81</td>\n",
       "      <td>21.0</td>\n",
       "      <td>7500</td>\n",
       "      <td>0</td>\n",
       "    </tr>\n",
       "    <tr>\n",
       "      <th>4</th>\n",
       "      <td>2017-01-01T00:37:09Z</td>\n",
       "      <td>17067235A1</td>\n",
       "      <td>3130363b</td>\n",
       "      <td>12ca76</td>\n",
       "      <td>5411</td>\n",
       "      <td>826</td>\n",
       "      <td>M50</td>\n",
       "      <td>81</td>\n",
       "      <td>47.0</td>\n",
       "      <td>10500</td>\n",
       "      <td>0</td>\n",
       "    </tr>\n",
       "  </tbody>\n",
       "</table>\n",
       "</div>"
      ],
      "text/plain": [
       "        transactionTime     eventId accountNumber merchantId   mcc  \\\n",
       "0  2017-01-01T00:00:00Z  18688431A1      94f9b4e7     b76d06  5968   \n",
       "1  2017-01-01T00:49:03Z   2164986A1      648e19cf     718cc6  5499   \n",
       "2  2017-01-01T00:43:17Z  31294145A1      c0ffab1b     94cafc  5735   \n",
       "3  2017-01-01T00:15:07Z  11162049A1      038099dd     7d5803  5499   \n",
       "4  2017-01-01T00:37:09Z  17067235A1      3130363b     12ca76  5411   \n",
       "\n",
       "   merchantCountry merchantZip  posEntryMode  transactionAmount  \\\n",
       "0              826         CR0             1               10.7   \n",
       "1              826        DE14            81               21.2   \n",
       "2              442         NaN            81                5.0   \n",
       "3              826         NR1            81               21.0   \n",
       "4              826         M50            81               47.0   \n",
       "\n",
       "   availableCash  reportedTime  \n",
       "0           7500             0  \n",
       "1           4500             0  \n",
       "2           9500             0  \n",
       "3           7500             0  \n",
       "4          10500             0  "
      ]
     },
     "execution_count": 718,
     "metadata": {},
     "output_type": "execute_result"
    }
   ],
   "source": [
    "# Here is the data cleaning part. Firstly I will deal with the target vatiable. 1 as Fraud.0 as not fraud\n",
    "tran1=tran.reportedTime.isnull().astype('category')\n",
    "tran2 = tran1.replace({True:0, False:1})\n",
    "tran3 =pd.concat([tran.iloc[:,:10], tran2], axis=1)\n",
    "tran3.head()"
   ]
  },
  {
   "cell_type": "code",
   "execution_count": 719,
   "metadata": {},
   "outputs": [
    {
     "data": {
      "text/plain": [
       "0    117746\n",
       "1       875\n",
       "Name: reportedTime, dtype: int64"
      ]
     },
     "execution_count": 719,
     "metadata": {},
     "output_type": "execute_result"
    }
   ],
   "source": [
    "tran2.value_counts()"
   ]
  },
  {
   "cell_type": "code",
   "execution_count": 720,
   "metadata": {},
   "outputs": [
    {
     "data": {
      "text/html": [
       "<div>\n",
       "<style scoped>\n",
       "    .dataframe tbody tr th:only-of-type {\n",
       "        vertical-align: middle;\n",
       "    }\n",
       "\n",
       "    .dataframe tbody tr th {\n",
       "        vertical-align: top;\n",
       "    }\n",
       "\n",
       "    .dataframe thead th {\n",
       "        text-align: right;\n",
       "    }\n",
       "</style>\n",
       "<table border=\"1\" class=\"dataframe\">\n",
       "  <thead>\n",
       "    <tr style=\"text-align: right;\">\n",
       "      <th></th>\n",
       "      <th>accountNumber</th>\n",
       "      <th>name</th>\n",
       "    </tr>\n",
       "  </thead>\n",
       "  <tbody>\n",
       "    <tr>\n",
       "      <th>66b2f8b3</th>\n",
       "      <td>1312</td>\n",
       "      <td>66b2f8b3</td>\n",
       "    </tr>\n",
       "    <tr>\n",
       "      <th>43cbc280</th>\n",
       "      <td>1221</td>\n",
       "      <td>43cbc280</td>\n",
       "    </tr>\n",
       "    <tr>\n",
       "      <th>019e6b58</th>\n",
       "      <td>1206</td>\n",
       "      <td>019e6b58</td>\n",
       "    </tr>\n",
       "    <tr>\n",
       "      <th>a9024060</th>\n",
       "      <td>1047</td>\n",
       "      <td>a9024060</td>\n",
       "    </tr>\n",
       "    <tr>\n",
       "      <th>76676ffc</th>\n",
       "      <td>1008</td>\n",
       "      <td>76676ffc</td>\n",
       "    </tr>\n",
       "  </tbody>\n",
       "</table>\n",
       "</div>"
      ],
      "text/plain": [
       "          accountNumber      name\n",
       "66b2f8b3           1312  66b2f8b3\n",
       "43cbc280           1221  43cbc280\n",
       "019e6b58           1206  019e6b58\n",
       "a9024060           1047  a9024060\n",
       "76676ffc           1008  76676ffc"
      ]
     },
     "execution_count": 720,
     "metadata": {},
     "output_type": "execute_result"
    }
   ],
   "source": [
    "# I decided to count the frequency of accountNumber and replace it with the levels since there are too many levels in accountNumber\n",
    "# # how many times an account number is shared\n",
    "# because we are studying user's first transaction\n",
    "# the more an account is shared, the more suspicous\n",
    "a =tran3.accountNumber.value_counts()\n",
    "a= pd.DataFrame(a)\n",
    "a.loc[:,\"name\"] =a.index\n",
    "a.head()"
   ]
  },
  {
   "cell_type": "code",
   "execution_count": 721,
   "metadata": {},
   "outputs": [],
   "source": [
    "tran4 =tran3.merge(a, left_on='accountNumber', right_on='name')"
   ]
  },
  {
   "cell_type": "code",
   "execution_count": 722,
   "metadata": {},
   "outputs": [
    {
     "data": {
      "text/plain": [
       "96878e    3294\n",
       "243074    2281\n",
       "7f7cdb    1784\n",
       "4fd0ff    1554\n",
       "7c3a49    1143\n",
       "Name: merchantId, dtype: int64"
      ]
     },
     "execution_count": 722,
     "metadata": {},
     "output_type": "execute_result"
    }
   ],
   "source": [
    "# we want to drop merchantId in the future since it's highly correlated to mcc, also with too many individual ids\n",
    "tran4.merchantId.value_counts().head()"
   ]
  },
  {
   "cell_type": "code",
   "execution_count": 723,
   "metadata": {},
   "outputs": [],
   "source": [
    "# We drop transactiontime and eventid as they are redundant in the model\n",
    "tran4.drop([\"transactionTime\",\"eventId\",\"accountNumber_x\",\"merchantId\"], inplace=True, axis=1)"
   ]
  },
  {
   "cell_type": "code",
   "execution_count": 724,
   "metadata": {
    "scrolled": true
   },
   "outputs": [
    {
     "data": {
      "text/html": [
       "<div>\n",
       "<style scoped>\n",
       "    .dataframe tbody tr th:only-of-type {\n",
       "        vertical-align: middle;\n",
       "    }\n",
       "\n",
       "    .dataframe tbody tr th {\n",
       "        vertical-align: top;\n",
       "    }\n",
       "\n",
       "    .dataframe thead th {\n",
       "        text-align: right;\n",
       "    }\n",
       "</style>\n",
       "<table border=\"1\" class=\"dataframe\">\n",
       "  <thead>\n",
       "    <tr style=\"text-align: right;\">\n",
       "      <th></th>\n",
       "      <th>mcc</th>\n",
       "      <th>merchantCountry</th>\n",
       "      <th>merchantZip</th>\n",
       "      <th>posEntryMode</th>\n",
       "      <th>transactionAmount</th>\n",
       "      <th>availableCash</th>\n",
       "      <th>reportedTime</th>\n",
       "      <th>accountNumber_y</th>\n",
       "      <th>name</th>\n",
       "    </tr>\n",
       "  </thead>\n",
       "  <tbody>\n",
       "    <tr>\n",
       "      <th>0</th>\n",
       "      <td>5968</td>\n",
       "      <td>826</td>\n",
       "      <td>CR0</td>\n",
       "      <td>1</td>\n",
       "      <td>10.7</td>\n",
       "      <td>7500</td>\n",
       "      <td>0</td>\n",
       "      <td>362</td>\n",
       "      <td>94f9b4e7</td>\n",
       "    </tr>\n",
       "    <tr>\n",
       "      <th>1</th>\n",
       "      <td>4816</td>\n",
       "      <td>826</td>\n",
       "      <td>L39LQ</td>\n",
       "      <td>81</td>\n",
       "      <td>274.9</td>\n",
       "      <td>8500</td>\n",
       "      <td>0</td>\n",
       "      <td>362</td>\n",
       "      <td>94f9b4e7</td>\n",
       "    </tr>\n",
       "    <tr>\n",
       "      <th>2</th>\n",
       "      <td>4816</td>\n",
       "      <td>826</td>\n",
       "      <td>L39LQ</td>\n",
       "      <td>81</td>\n",
       "      <td>11.0</td>\n",
       "      <td>8500</td>\n",
       "      <td>0</td>\n",
       "      <td>362</td>\n",
       "      <td>94f9b4e7</td>\n",
       "    </tr>\n",
       "    <tr>\n",
       "      <th>3</th>\n",
       "      <td>5968</td>\n",
       "      <td>826</td>\n",
       "      <td>UB11</td>\n",
       "      <td>1</td>\n",
       "      <td>8.4</td>\n",
       "      <td>7500</td>\n",
       "      <td>0</td>\n",
       "      <td>362</td>\n",
       "      <td>94f9b4e7</td>\n",
       "    </tr>\n",
       "    <tr>\n",
       "      <th>4</th>\n",
       "      <td>5968</td>\n",
       "      <td>826</td>\n",
       "      <td>CR0</td>\n",
       "      <td>1</td>\n",
       "      <td>12.0</td>\n",
       "      <td>8500</td>\n",
       "      <td>0</td>\n",
       "      <td>362</td>\n",
       "      <td>94f9b4e7</td>\n",
       "    </tr>\n",
       "  </tbody>\n",
       "</table>\n",
       "</div>"
      ],
      "text/plain": [
       "    mcc  merchantCountry merchantZip  posEntryMode  transactionAmount  \\\n",
       "0  5968              826         CR0             1               10.7   \n",
       "1  4816              826       L39LQ            81              274.9   \n",
       "2  4816              826       L39LQ            81               11.0   \n",
       "3  5968              826        UB11             1                8.4   \n",
       "4  5968              826         CR0             1               12.0   \n",
       "\n",
       "   availableCash  reportedTime  accountNumber_y      name  \n",
       "0           7500             0              362  94f9b4e7  \n",
       "1           8500             0              362  94f9b4e7  \n",
       "2           8500             0              362  94f9b4e7  \n",
       "3           7500             0              362  94f9b4e7  \n",
       "4           8500             0              362  94f9b4e7  "
      ]
     },
     "execution_count": 724,
     "metadata": {},
     "output_type": "execute_result"
    }
   ],
   "source": [
    "tran4.head()"
   ]
  },
  {
   "cell_type": "code",
   "execution_count": 725,
   "metadata": {},
   "outputs": [],
   "source": [
    "# I also calculate the frequency of mcc and assign the category levels with numbers\n",
    "# how many times a category is shared\n",
    "c =tran4.mcc.value_counts()\n",
    "c= pd.DataFrame(c)\n",
    "c.loc[:,\"name\"] =c.index\n",
    "tran5 =tran4.merge(c, left_on='mcc', right_on='name')"
   ]
  },
  {
   "cell_type": "code",
   "execution_count": 726,
   "metadata": {},
   "outputs": [],
   "source": [
    "tran5.drop([\"mcc_x\",\"name_x\",\"name_y\"], inplace=True, axis=1)"
   ]
  },
  {
   "cell_type": "code",
   "execution_count": 727,
   "metadata": {},
   "outputs": [
    {
     "data": {
      "text/html": [
       "<div>\n",
       "<style scoped>\n",
       "    .dataframe tbody tr th:only-of-type {\n",
       "        vertical-align: middle;\n",
       "    }\n",
       "\n",
       "    .dataframe tbody tr th {\n",
       "        vertical-align: top;\n",
       "    }\n",
       "\n",
       "    .dataframe thead th {\n",
       "        text-align: right;\n",
       "    }\n",
       "</style>\n",
       "<table border=\"1\" class=\"dataframe\">\n",
       "  <thead>\n",
       "    <tr style=\"text-align: right;\">\n",
       "      <th></th>\n",
       "      <th>merchantCountry</th>\n",
       "      <th>merchantZip</th>\n",
       "      <th>posEntryMode</th>\n",
       "      <th>transactionAmount</th>\n",
       "      <th>availableCash</th>\n",
       "      <th>reportedTime</th>\n",
       "      <th>accountNumber_y</th>\n",
       "      <th>mcc_y</th>\n",
       "    </tr>\n",
       "  </thead>\n",
       "  <tbody>\n",
       "    <tr>\n",
       "      <th>0</th>\n",
       "      <td>826</td>\n",
       "      <td>CR0</td>\n",
       "      <td>1</td>\n",
       "      <td>10.7</td>\n",
       "      <td>7500</td>\n",
       "      <td>0</td>\n",
       "      <td>362</td>\n",
       "      <td>2219</td>\n",
       "    </tr>\n",
       "    <tr>\n",
       "      <th>1</th>\n",
       "      <td>826</td>\n",
       "      <td>UB11</td>\n",
       "      <td>1</td>\n",
       "      <td>8.4</td>\n",
       "      <td>7500</td>\n",
       "      <td>0</td>\n",
       "      <td>362</td>\n",
       "      <td>2219</td>\n",
       "    </tr>\n",
       "    <tr>\n",
       "      <th>2</th>\n",
       "      <td>826</td>\n",
       "      <td>CR0</td>\n",
       "      <td>1</td>\n",
       "      <td>12.0</td>\n",
       "      <td>8500</td>\n",
       "      <td>0</td>\n",
       "      <td>362</td>\n",
       "      <td>2219</td>\n",
       "    </tr>\n",
       "    <tr>\n",
       "      <th>3</th>\n",
       "      <td>826</td>\n",
       "      <td>TS17</td>\n",
       "      <td>1</td>\n",
       "      <td>25.2</td>\n",
       "      <td>7500</td>\n",
       "      <td>0</td>\n",
       "      <td>362</td>\n",
       "      <td>2219</td>\n",
       "    </tr>\n",
       "    <tr>\n",
       "      <th>4</th>\n",
       "      <td>826</td>\n",
       "      <td>UB11</td>\n",
       "      <td>1</td>\n",
       "      <td>8.4</td>\n",
       "      <td>7500</td>\n",
       "      <td>0</td>\n",
       "      <td>362</td>\n",
       "      <td>2219</td>\n",
       "    </tr>\n",
       "  </tbody>\n",
       "</table>\n",
       "</div>"
      ],
      "text/plain": [
       "   merchantCountry merchantZip  posEntryMode  transactionAmount  \\\n",
       "0              826         CR0             1               10.7   \n",
       "1              826        UB11             1                8.4   \n",
       "2              826         CR0             1               12.0   \n",
       "3              826        TS17             1               25.2   \n",
       "4              826        UB11             1                8.4   \n",
       "\n",
       "   availableCash  reportedTime  accountNumber_y  mcc_y  \n",
       "0           7500             0              362   2219  \n",
       "1           7500             0              362   2219  \n",
       "2           8500             0              362   2219  \n",
       "3           7500             0              362   2219  \n",
       "4           7500             0              362   2219  "
      ]
     },
     "execution_count": 727,
     "metadata": {},
     "output_type": "execute_result"
    }
   ],
   "source": [
    "tran5.head()"
   ]
  },
  {
   "cell_type": "code",
   "execution_count": 728,
   "metadata": {},
   "outputs": [],
   "source": [
    "# As for merchant country, I try to reduce dimensions from 82 to 12, assign \"others\" to the levels under 100 which is comparitively low in frequency\n",
    "d =tran5.merchantCountry.value_counts()\n",
    "d= pd.DataFrame(d)\n",
    "d.loc[:,\"name\"] =d.index"
   ]
  },
  {
   "cell_type": "code",
   "execution_count": 729,
   "metadata": {},
   "outputs": [],
   "source": [
    "country_list = d.loc[d.merchantCountry>180,\"name\"]"
   ]
  },
  {
   "cell_type": "code",
   "execution_count": 730,
   "metadata": {},
   "outputs": [],
   "source": [
    "tran5.loc[~tran5[\"merchantCountry\"].isin(country_list),\"merchantCountry\"]=\"Others\""
   ]
  },
  {
   "cell_type": "code",
   "execution_count": 731,
   "metadata": {},
   "outputs": [
    {
     "data": {
      "text/plain": [
       "826       95616\n",
       "442       14929\n",
       "840        2873\n",
       "Others     1713\n",
       "372        1414\n",
       "250         483\n",
       "528         406\n",
       "724         298\n",
       "380         247\n",
       "276         240\n",
       "292         216\n",
       "196         186\n",
       "Name: merchantCountry, dtype: int64"
      ]
     },
     "execution_count": 731,
     "metadata": {},
     "output_type": "execute_result"
    }
   ],
   "source": [
    "tran5.merchantCountry.value_counts()"
   ]
  },
  {
   "cell_type": "code",
   "execution_count": 732,
   "metadata": {},
   "outputs": [
    {
     "data": {
      "text/plain": [
       "23005"
      ]
     },
     "execution_count": 732,
     "metadata": {},
     "output_type": "execute_result"
    }
   ],
   "source": [
    "# drop merchantZip as there were too many missing values\n",
    "tran5.merchantZip.isnull().sum()"
   ]
  },
  {
   "cell_type": "markdown",
   "metadata": {},
   "source": [
    "# Dummy\n"
   ]
  },
  {
   "cell_type": "code",
   "execution_count": 733,
   "metadata": {},
   "outputs": [],
   "source": [
    "# get dummy variable of merchantCountry\n",
    "tran5.merchantCountry = tran5.merchantCountry.astype(\"category\")\n",
    "country_dummy= pd.get_dummies(tran5.merchantCountry, prefix='country')\n",
    "tran6 = pd.concat([tran5, country_dummy],axis=1)\n"
   ]
  },
  {
   "cell_type": "code",
   "execution_count": 734,
   "metadata": {},
   "outputs": [
    {
     "data": {
      "text/html": [
       "<div>\n",
       "<style scoped>\n",
       "    .dataframe tbody tr th:only-of-type {\n",
       "        vertical-align: middle;\n",
       "    }\n",
       "\n",
       "    .dataframe tbody tr th {\n",
       "        vertical-align: top;\n",
       "    }\n",
       "\n",
       "    .dataframe thead th {\n",
       "        text-align: right;\n",
       "    }\n",
       "</style>\n",
       "<table border=\"1\" class=\"dataframe\">\n",
       "  <thead>\n",
       "    <tr style=\"text-align: right;\">\n",
       "      <th></th>\n",
       "      <th>posEntryMode</th>\n",
       "      <th>transactionAmount</th>\n",
       "      <th>availableCash</th>\n",
       "      <th>reportedTime</th>\n",
       "      <th>accountNumber_y</th>\n",
       "      <th>mcc_y</th>\n",
       "      <th>country_196</th>\n",
       "      <th>country_250</th>\n",
       "      <th>country_276</th>\n",
       "      <th>country_292</th>\n",
       "      <th>country_372</th>\n",
       "      <th>country_380</th>\n",
       "      <th>country_442</th>\n",
       "      <th>country_528</th>\n",
       "      <th>country_724</th>\n",
       "      <th>country_826</th>\n",
       "      <th>country_840</th>\n",
       "      <th>country_Others</th>\n",
       "    </tr>\n",
       "  </thead>\n",
       "  <tbody>\n",
       "    <tr>\n",
       "      <th>0</th>\n",
       "      <td>1</td>\n",
       "      <td>10.7</td>\n",
       "      <td>7500</td>\n",
       "      <td>0</td>\n",
       "      <td>362</td>\n",
       "      <td>2219</td>\n",
       "      <td>0</td>\n",
       "      <td>0</td>\n",
       "      <td>0</td>\n",
       "      <td>0</td>\n",
       "      <td>0</td>\n",
       "      <td>0</td>\n",
       "      <td>0</td>\n",
       "      <td>0</td>\n",
       "      <td>0</td>\n",
       "      <td>1</td>\n",
       "      <td>0</td>\n",
       "      <td>0</td>\n",
       "    </tr>\n",
       "    <tr>\n",
       "      <th>1</th>\n",
       "      <td>1</td>\n",
       "      <td>8.4</td>\n",
       "      <td>7500</td>\n",
       "      <td>0</td>\n",
       "      <td>362</td>\n",
       "      <td>2219</td>\n",
       "      <td>0</td>\n",
       "      <td>0</td>\n",
       "      <td>0</td>\n",
       "      <td>0</td>\n",
       "      <td>0</td>\n",
       "      <td>0</td>\n",
       "      <td>0</td>\n",
       "      <td>0</td>\n",
       "      <td>0</td>\n",
       "      <td>1</td>\n",
       "      <td>0</td>\n",
       "      <td>0</td>\n",
       "    </tr>\n",
       "    <tr>\n",
       "      <th>2</th>\n",
       "      <td>1</td>\n",
       "      <td>12.0</td>\n",
       "      <td>8500</td>\n",
       "      <td>0</td>\n",
       "      <td>362</td>\n",
       "      <td>2219</td>\n",
       "      <td>0</td>\n",
       "      <td>0</td>\n",
       "      <td>0</td>\n",
       "      <td>0</td>\n",
       "      <td>0</td>\n",
       "      <td>0</td>\n",
       "      <td>0</td>\n",
       "      <td>0</td>\n",
       "      <td>0</td>\n",
       "      <td>1</td>\n",
       "      <td>0</td>\n",
       "      <td>0</td>\n",
       "    </tr>\n",
       "    <tr>\n",
       "      <th>3</th>\n",
       "      <td>1</td>\n",
       "      <td>25.2</td>\n",
       "      <td>7500</td>\n",
       "      <td>0</td>\n",
       "      <td>362</td>\n",
       "      <td>2219</td>\n",
       "      <td>0</td>\n",
       "      <td>0</td>\n",
       "      <td>0</td>\n",
       "      <td>0</td>\n",
       "      <td>0</td>\n",
       "      <td>0</td>\n",
       "      <td>0</td>\n",
       "      <td>0</td>\n",
       "      <td>0</td>\n",
       "      <td>1</td>\n",
       "      <td>0</td>\n",
       "      <td>0</td>\n",
       "    </tr>\n",
       "    <tr>\n",
       "      <th>4</th>\n",
       "      <td>1</td>\n",
       "      <td>8.4</td>\n",
       "      <td>7500</td>\n",
       "      <td>0</td>\n",
       "      <td>362</td>\n",
       "      <td>2219</td>\n",
       "      <td>0</td>\n",
       "      <td>0</td>\n",
       "      <td>0</td>\n",
       "      <td>0</td>\n",
       "      <td>0</td>\n",
       "      <td>0</td>\n",
       "      <td>0</td>\n",
       "      <td>0</td>\n",
       "      <td>0</td>\n",
       "      <td>1</td>\n",
       "      <td>0</td>\n",
       "      <td>0</td>\n",
       "    </tr>\n",
       "  </tbody>\n",
       "</table>\n",
       "</div>"
      ],
      "text/plain": [
       "   posEntryMode  transactionAmount  availableCash  reportedTime  \\\n",
       "0             1               10.7           7500             0   \n",
       "1             1                8.4           7500             0   \n",
       "2             1               12.0           8500             0   \n",
       "3             1               25.2           7500             0   \n",
       "4             1                8.4           7500             0   \n",
       "\n",
       "   accountNumber_y  mcc_y  country_196  country_250  country_276  country_292  \\\n",
       "0              362   2219            0            0            0            0   \n",
       "1              362   2219            0            0            0            0   \n",
       "2              362   2219            0            0            0            0   \n",
       "3              362   2219            0            0            0            0   \n",
       "4              362   2219            0            0            0            0   \n",
       "\n",
       "   country_372  country_380  country_442  country_528  country_724  \\\n",
       "0            0            0            0            0            0   \n",
       "1            0            0            0            0            0   \n",
       "2            0            0            0            0            0   \n",
       "3            0            0            0            0            0   \n",
       "4            0            0            0            0            0   \n",
       "\n",
       "   country_826  country_840  country_Others  \n",
       "0            1            0               0  \n",
       "1            1            0               0  \n",
       "2            1            0               0  \n",
       "3            1            0               0  \n",
       "4            1            0               0  "
      ]
     },
     "execution_count": 734,
     "metadata": {},
     "output_type": "execute_result"
    }
   ],
   "source": [
    "tran6.drop([\"merchantCountry\",\"merchantZip\"],axis=1).head()"
   ]
  },
  {
   "cell_type": "code",
   "execution_count": 735,
   "metadata": {},
   "outputs": [],
   "source": [
    "# get dummy variable of posEntryMode\n",
    "tran6.posEntryMode = tran6.posEntryMode.astype(\"category\")\n",
    "pos_dummy= pd.get_dummies(tran6.posEntryMode, prefix='posEntryMode')\n",
    "tran7 = pd.concat([tran6, pos_dummy],axis=1)"
   ]
  },
  {
   "cell_type": "code",
   "execution_count": 736,
   "metadata": {},
   "outputs": [],
   "source": [
    "tran7 =tran7.drop([\"merchantCountry\",\"merchantZip\",'posEntryMode'],axis=1)"
   ]
  },
  {
   "cell_type": "code",
   "execution_count": 737,
   "metadata": {},
   "outputs": [],
   "source": [
    "tran7.transactionAmount = np.sqrt(tran7.transactionAmount)"
   ]
  },
  {
   "cell_type": "code",
   "execution_count": 738,
   "metadata": {},
   "outputs": [
    {
     "data": {
      "text/plain": [
       "transactionAmount    float64\n",
       "availableCash          int64\n",
       "reportedTime           int64\n",
       "accountNumber_y        int64\n",
       "mcc_y                  int64\n",
       "country_196            uint8\n",
       "country_250            uint8\n",
       "country_276            uint8\n",
       "country_292            uint8\n",
       "country_372            uint8\n",
       "country_380            uint8\n",
       "country_442            uint8\n",
       "country_528            uint8\n",
       "country_724            uint8\n",
       "country_826            uint8\n",
       "country_840            uint8\n",
       "country_Others         uint8\n",
       "posEntryMode_0         uint8\n",
       "posEntryMode_1         uint8\n",
       "posEntryMode_2         uint8\n",
       "posEntryMode_5         uint8\n",
       "posEntryMode_7         uint8\n",
       "posEntryMode_79        uint8\n",
       "posEntryMode_80        uint8\n",
       "posEntryMode_81        uint8\n",
       "posEntryMode_90        uint8\n",
       "posEntryMode_91        uint8\n",
       "dtype: object"
      ]
     },
     "execution_count": 738,
     "metadata": {},
     "output_type": "execute_result"
    }
   ],
   "source": [
    "tran7.dtypes"
   ]
  },
  {
   "cell_type": "markdown",
   "metadata": {},
   "source": [
    "# Modelling"
   ]
  },
  {
   "cell_type": "code",
   "execution_count": 739,
   "metadata": {},
   "outputs": [
    {
     "data": {
      "text/plain": [
       "0    117746\n",
       "1       875\n",
       "Name: reportedTime, dtype: int64"
      ]
     },
     "execution_count": 739,
     "metadata": {},
     "output_type": "execute_result"
    }
   ],
   "source": [
    "# the target variable is highly imbalanced so i decided to upsample the \"1\"\n",
    "tran7.reportedTime.value_counts()"
   ]
  },
  {
   "cell_type": "code",
   "execution_count": 740,
   "metadata": {},
   "outputs": [
    {
     "data": {
      "text/plain": [
       "0    117746\n",
       "1       875\n",
       "Name: reportedTime, dtype: int64"
      ]
     },
     "execution_count": 740,
     "metadata": {},
     "output_type": "execute_result"
    }
   ],
   "source": [
    "tran7.reportedTime.value_counts()"
   ]
  },
  {
   "cell_type": "code",
   "execution_count": 743,
   "metadata": {},
   "outputs": [],
   "source": [
    "# Train test split by 8:2\n",
    "y =tran7[\"reportedTime\"]\n",
    "X= tran7.drop([\"reportedTime\"],axis=1)\n",
    "from sklearn.model_selection import train_test_split\n",
    "X_train, X_test,y_train, y_test = train_test_split(X,y,test_size = 0.20,random_state = 42,stratify= y)"
   ]
  },
  {
   "cell_type": "code",
   "execution_count": 744,
   "metadata": {},
   "outputs": [
    {
     "data": {
      "text/plain": [
       "0    94196\n",
       "1      700\n",
       "Name: reportedTime, dtype: int64"
      ]
     },
     "execution_count": 744,
     "metadata": {},
     "output_type": "execute_result"
    }
   ],
   "source": [
    "y_train.value_counts()"
   ]
  },
  {
   "cell_type": "code",
   "execution_count": 747,
   "metadata": {},
   "outputs": [],
   "source": [
    "train_data= pd.concat([X_train, y_train],axis=1)"
   ]
  },
  {
   "cell_type": "code",
   "execution_count": 753,
   "metadata": {},
   "outputs": [
    {
     "data": {
      "text/plain": [
       "0    94196\n",
       "1    70000\n",
       "Name: reportedTime, dtype: int64"
      ]
     },
     "execution_count": 753,
     "metadata": {},
     "output_type": "execute_result"
    }
   ],
   "source": [
    "train_data.reportedTime.value_counts()"
   ]
  },
  {
   "cell_type": "code",
   "execution_count": 776,
   "metadata": {},
   "outputs": [],
   "source": [
    "# I want to upsample the target variable\"1\" to 90000 in training data \n",
    "from sklearn.utils import resample\n",
    "#Separate majority and minority classes\n",
    "df_majority = train_data[train_data.reportedTime==0]\n",
    "df_minority = train_data[train_data.reportedTime==1]\n",
    " \n",
    "# Upsample minority class\n",
    "\n",
    "df_minority_upsampled = resample(df_minority, \n",
    "                                 replace=True,     # sample with replacement\n",
    "                                 n_samples=90000,    # to match majority class\n",
    "                                random_state=42) # reproducible results\n",
    " \n",
    "##Combine majority class with upsampled minority class\n",
    "train_data = pd.concat([df_majority, df_minority_upsampled])"
   ]
  },
  {
   "cell_type": "code",
   "execution_count": 760,
   "metadata": {},
   "outputs": [],
   "source": [
    "y_train =train_data[\"reportedTime\"]\n",
    "X_train= train_data.drop([\"reportedTime\"],axis=1)"
   ]
  },
  {
   "cell_type": "code",
   "execution_count": 762,
   "metadata": {},
   "outputs": [],
   "source": [
    "# # We use Light Gradient Boost as our first model since LGBM is a gradient boosting framework that uses tree based learning algorithm\n",
    "# We don't need to turn the parameters since it's already prevent the overfitting.\n",
    "import lightgbm as lgbm\n",
    "from sklearn.metrics import mean_squared_error\n",
    "model = lgbm.LGBMClassifier()\n",
    "model1 = model.fit(X_train, y_train)\n",
    "y_pred = model1.predict(X_test)\n",
    "y_pred1 = model1.predict_proba(X_test)\n",
    "y_pro = y_pred1[:,1]"
   ]
  },
  {
   "cell_type": "code",
   "execution_count": 778,
   "metadata": {},
   "outputs": [
    {
     "data": {
      "text/plain": [
       "0    23589\n",
       "1      136\n",
       "dtype: int64"
      ]
     },
     "execution_count": 778,
     "metadata": {},
     "output_type": "execute_result"
    }
   ],
   "source": [
    "pd.Series(y_pred).value_counts()"
   ]
  },
  {
   "cell_type": "code",
   "execution_count": 795,
   "metadata": {
    "scrolled": true
   },
   "outputs": [
    {
     "data": {
      "image/png": "[encoded data removed]",
      "text/plain": [
       "<Figure size 360x360 with 2 Axes>"
      ]
     },
     "metadata": {},
     "output_type": "display_data"
    },
    {
     "name": "stdout",
     "output_type": "stream",
     "text": [
      "precision_score:  0.6910569105691057\n",
      "recall_score:  0.4857142857142857\n",
      "f1_score:  0.5704697986577181\n"
     ]
    }
   ],
   "source": [
    "from sklearn.metrics import confusion_matrix\n",
    "cm_lrc = confusion_matrix(y_test,y_pred)\n",
    "# print(\"y_test_01 == 1 :\" + str(len(y_test_01[y_test_01==1]))) # 29\n",
    "\n",
    "# cm visualization\n",
    "import seaborn as sns\n",
    "import matplotlib.pyplot as plt\n",
    "f, ax = plt.subplots(figsize =(5,5))\n",
    "sns.heatmap(cm_lrc,annot = True,linewidths=0.5,cmap=plt.cm.Blues,fmt = \".0f\",ax=ax)\n",
    "plt.title(\"Test for Test Dataset\")\n",
    "plt.xlabel(\"predicted y values\")\n",
    "plt.ylabel(\"real y values\")\n",
    "plt.show()\n",
    "\n",
    "from sklearn.metrics import precision_score, recall_score\n",
    "print(\"precision_score: \", precision_score(y_test,y_pred))\n",
    "print(\"recall_score: \", recall_score(y_test,y_pred))\n",
    "\n",
    "from sklearn.metrics import f1_score\n",
    "print(\"f1_score: \",f1_score(y_test,y_pred))\n",
    "# It seems that the model didn't produce very good accuracy due to the unbalanced target variable. \n",
    "# the recall of 1 seems too high compared to the precision\n",
    "# f1_score is noy that accurate\n",
    "\n",
    "# precision_score:  0.1407907425265188\n",
    "#recall_score:  0.8342857142857143\n",
    "# f1_score:  0.2409240924092409"
   ]
  },
  {
   "cell_type": "code",
   "execution_count": 780,
   "metadata": {},
   "outputs": [
    {
     "name": "stdout",
     "output_type": "stream",
     "text": [
      "The predictive accuracy is:  0.99\n",
      "The classification error is:  0.01\n",
      "The Confusion matrix: \n",
      "           Predict 0  Predict 1\n",
      "Actual 0      23505         45\n",
      "Actual 1         84         91\n"
     ]
    }
   ],
   "source": [
    "accuracy = sum(y_pred == y_test)/len(y_test)\n",
    "error = 1 - accuracy\n",
    "print(\"The predictive accuracy is: \", round(accuracy, 2))\n",
    "print(\"The classification error is: \", round(error, 2))\n",
    "\n",
    "# Confusion matrix\n",
    "from sklearn.metrics import confusion_matrix\n",
    "\n",
    "cnf_matrix = pd.DataFrame(confusion_matrix(y_test, y_pred), columns = ['Predict 0', 'Predict 1'], index = ['Actual 0', 'Actual 1'])\n",
    "print(\"The Confusion matrix: \\n\", cnf_matrix)\n",
    "#The predictive accuracy is:  0.99\n",
    "#The classification error is:  0.01\n",
    "#The Confusion matrix: \n",
    "#           Predict 0  Predict 1\n",
    "#Actual 0      23505         45\n",
    "#Actual 1         84         91"
   ]
  },
  {
   "cell_type": "code",
   "execution_count": 782,
   "metadata": {},
   "outputs": [
    {
     "data": {
      "image/png": "[encoded data removed]",
      "text/plain": [
       "<Figure size 432x288 with 1 Axes>"
      ]
     },
     "metadata": {},
     "output_type": "display_data"
    }
   ],
   "source": [
    "import sklearn.metrics as metrics\n",
    "# calculate the fpr and tpr for all thresholds of the classification\n",
    "fpr, tpr, threshold = metrics.roc_curve(y_test, y_pro)\n",
    "roc_auc = metrics.auc(fpr, tpr)\n",
    "import matplotlib.pyplot as plt\n",
    "plt.title('Receiver Operating Characteristic')\n",
    "plt.plot(fpr, tpr, 'b', label = 'AUC = %0.2f' % roc_auc)\n",
    "plt.legend(loc = 'lower right')\n",
    "plt.plot([0, 1], [0, 1],'r--')\n",
    "plt.xlim([0, 1])\n",
    "plt.ylim([0, 1])\n",
    "plt.ylabel('True Positive Rate')\n",
    "plt.xlabel('False Positive Rate')\n",
    "plt.show()\n",
    "# the auc seems to be very accurate"
   ]
  },
  {
   "cell_type": "code",
   "execution_count": 784,
   "metadata": {},
   "outputs": [
    {
     "data": {
      "image/png": "[encoded data removed]",
      "text/plain": [
       "<Figure size 1440x720 with 1 Axes>"
      ]
     },
     "metadata": {},
     "output_type": "display_data"
    },
    {
     "data": {
      "text/plain": [
       "<Figure size 432x288 with 0 Axes>"
      ]
     },
     "metadata": {},
     "output_type": "display_data"
    }
   ],
   "source": [
    "import matplotlib.pyplot as plt\n",
    "import seaborn as sns\n",
    "import warnings\n",
    "warnings.simplefilter(action='ignore', category=FutureWarning)\n",
    "\n",
    "# sorted(zip(clf.feature_importances_, X.columns), reverse=True)\n",
    "feature_imp = pd.DataFrame(sorted(zip(model1.feature_importances_,X.columns)), columns=['Value','Feature'])\n",
    "\n",
    "plt.figure(figsize=(20, 10))\n",
    "sns.barplot(x=\"Value\", y=\"Feature\", data=feature_imp.sort_values(by=\"Value\", ascending=False))\n",
    "plt.title('LightGBM Features (avg over folds)')\n",
    "plt.tight_layout()\n",
    "plt.show()\n",
    "plt.savefig('lgbm_importances-01.png')"
   ]
  },
  {
   "cell_type": "code",
   "execution_count": 797,
   "metadata": {},
   "outputs": [
    {
     "data": {
      "image/svg+xml": [
       "<?xml version=\"1.0\" encoding=\"UTF-8\" standalone=\"no\"?>\r\n",
       "<!DOCTYPE svg PUBLIC \"-//W3C//DTD SVG 1.1//EN\"\r\n",
       " \"http://www.w3.org/Graphics/SVG/1.1/DTD/svg11.dtd\">\r\n",
       "<!-- Generated by graphviz version 2.38.0 (20140413.2041)\r\n",
       " -->\r\n",
       "<!-- Title: Tree Pages: 1 -->\r\n",
       "<svg width=\"1366pt\" height=\"441pt\"\r\n",
       " viewBox=\"0.00 0.00 1366.00 440.50\" xmlns=\"http://www.w3.org/2000/svg\" xmlns:xlink=\"http://www.w3.org/1999/xlink\">\r\n",
       "<g id=\"graph0\" class=\"graph\" transform=\"scale(1 1) rotate(0) translate(4 436.5)\">\r\n",
       "<title>Tree</title>\r\n",
       "<polygon fill=\"white\" stroke=\"none\" points=\"-4,4 -4,-436.5 1362,-436.5 1362,4 -4,4\"/>\r\n",
       "<!-- 0 -->\r\n",
       "<g id=\"node1\" class=\"node\"><title>0</title>\r\n",
       "<path fill=\"#e58139\" fill-opacity=\"0.043137\" stroke=\"black\" d=\"M752,-432.5C752,-432.5 606,-432.5 606,-432.5 600,-432.5 594,-426.5 594,-420.5 594,-420.5 594,-361.5 594,-361.5 594,-355.5 600,-349.5 606,-349.5 606,-349.5 752,-349.5 752,-349.5 758,-349.5 764,-355.5 764,-361.5 764,-361.5 764,-420.5 764,-420.5 764,-426.5 758,-432.5 752,-432.5\"/>\r\n",
       "<text text-anchor=\"middle\" x=\"679\" y=\"-417.3\" font-family=\"Helvetica,sans-Serif\" font-size=\"14.00\">posEntryMode_5 &lt;= 0.5</text>\r\n",
       "<text text-anchor=\"middle\" x=\"679\" y=\"-402.3\" font-family=\"Helvetica,sans-Serif\" font-size=\"14.00\">gini = 0.5</text>\r\n",
       "<text text-anchor=\"middle\" x=\"679\" y=\"-387.3\" font-family=\"Helvetica,sans-Serif\" font-size=\"14.00\">samples = 100.0%</text>\r\n",
       "<text text-anchor=\"middle\" x=\"679\" y=\"-372.3\" font-family=\"Helvetica,sans-Serif\" font-size=\"14.00\">value = [0.511, 0.489]</text>\r\n",
       "<text text-anchor=\"middle\" x=\"679\" y=\"-357.3\" font-family=\"Helvetica,sans-Serif\" font-size=\"14.00\">class = NotFraud</text>\r\n",
       "</g>\r\n",
       "<!-- 1 -->\r\n",
       "<g id=\"node2\" class=\"node\"><title>1</title>\r\n",
       "<path fill=\"#399de5\" fill-opacity=\"0.568627\" stroke=\"black\" d=\"M630,-313.5C630,-313.5 462,-313.5 462,-313.5 456,-313.5 450,-307.5 450,-301.5 450,-301.5 450,-242.5 450,-242.5 450,-236.5 456,-230.5 462,-230.5 462,-230.5 630,-230.5 630,-230.5 636,-230.5 642,-236.5 642,-242.5 642,-242.5 642,-301.5 642,-301.5 642,-307.5 636,-313.5 630,-313.5\"/>\r\n",
       "<text text-anchor=\"middle\" x=\"546\" y=\"-298.3\" font-family=\"Helvetica,sans-Serif\" font-size=\"14.00\">accountNumber_y &lt;= 524.5</text>\r\n",
       "<text text-anchor=\"middle\" x=\"546\" y=\"-283.3\" font-family=\"Helvetica,sans-Serif\" font-size=\"14.00\">gini = 0.422</text>\r\n",
       "<text text-anchor=\"middle\" x=\"546\" y=\"-268.3\" font-family=\"Helvetica,sans-Serif\" font-size=\"14.00\">samples = 68.4%</text>\r\n",
       "<text text-anchor=\"middle\" x=\"546\" y=\"-253.3\" font-family=\"Helvetica,sans-Serif\" font-size=\"14.00\">value = [0.302, 0.698]</text>\r\n",
       "<text text-anchor=\"middle\" x=\"546\" y=\"-238.3\" font-family=\"Helvetica,sans-Serif\" font-size=\"14.00\">class = Fraud</text>\r\n",
       "</g>\r\n",
       "<!-- 0&#45;&gt;1 -->\r\n",
       "<g id=\"edge1\" class=\"edge\"><title>0&#45;&gt;1</title>\r\n",
       "<path fill=\"none\" stroke=\"black\" d=\"M632.856,-349.407C622.128,-339.969 610.616,-329.843 599.597,-320.149\"/>\r\n",
       "<polygon fill=\"black\" stroke=\"black\" points=\"601.882,-317.498 592.062,-313.521 597.259,-322.754 601.882,-317.498\"/>\r\n",
       "<text text-anchor=\"middle\" x=\"593.659\" y=\"-334.77\" font-family=\"Helvetica,sans-Serif\" font-size=\"14.00\">True</text>\r\n",
       "</g>\r\n",
       "<!-- 8 -->\r\n",
       "<g id=\"node9\" class=\"node\"><title>8</title>\r\n",
       "<path fill=\"#e58139\" fill-opacity=\"0.964706\" stroke=\"black\" d=\"M897,-313.5C897,-313.5 727,-313.5 727,-313.5 721,-313.5 715,-307.5 715,-301.5 715,-301.5 715,-242.5 715,-242.5 715,-236.5 721,-230.5 727,-230.5 727,-230.5 897,-230.5 897,-230.5 903,-230.5 909,-236.5 909,-242.5 909,-242.5 909,-301.5 909,-301.5 909,-307.5 903,-313.5 897,-313.5\"/>\r\n",
       "<text text-anchor=\"middle\" x=\"812\" y=\"-298.3\" font-family=\"Helvetica,sans-Serif\" font-size=\"14.00\">transactionAmount &lt;= 1.235</text>\r\n",
       "<text text-anchor=\"middle\" x=\"812\" y=\"-283.3\" font-family=\"Helvetica,sans-Serif\" font-size=\"14.00\">gini = 0.069</text>\r\n",
       "<text text-anchor=\"middle\" x=\"812\" y=\"-268.3\" font-family=\"Helvetica,sans-Serif\" font-size=\"14.00\">samples = 31.6%</text>\r\n",
       "<text text-anchor=\"middle\" x=\"812\" y=\"-253.3\" font-family=\"Helvetica,sans-Serif\" font-size=\"14.00\">value = [0.964, 0.036]</text>\r\n",
       "<text text-anchor=\"middle\" x=\"812\" y=\"-238.3\" font-family=\"Helvetica,sans-Serif\" font-size=\"14.00\">class = NotFraud</text>\r\n",
       "</g>\r\n",
       "<!-- 0&#45;&gt;8 -->\r\n",
       "<g id=\"edge8\" class=\"edge\"><title>0&#45;&gt;8</title>\r\n",
       "<path fill=\"none\" stroke=\"black\" d=\"M725.144,-349.407C735.872,-339.969 747.384,-329.843 758.403,-320.149\"/>\r\n",
       "<polygon fill=\"black\" stroke=\"black\" points=\"760.741,-322.754 765.938,-313.521 756.118,-317.498 760.741,-322.754\"/>\r\n",
       "<text text-anchor=\"middle\" x=\"764.341\" y=\"-334.77\" font-family=\"Helvetica,sans-Serif\" font-size=\"14.00\">False</text>\r\n",
       "</g>\r\n",
       "<!-- 2 -->\r\n",
       "<g id=\"node3\" class=\"node\"><title>2</title>\r\n",
       "<path fill=\"#399de5\" fill-opacity=\"0.670588\" stroke=\"black\" d=\"M314,-194.5C314,-194.5 184,-194.5 184,-194.5 178,-194.5 172,-188.5 172,-182.5 172,-182.5 172,-123.5 172,-123.5 172,-117.5 178,-111.5 184,-111.5 184,-111.5 314,-111.5 314,-111.5 320,-111.5 326,-117.5 326,-123.5 326,-123.5 326,-182.5 326,-182.5 326,-188.5 320,-194.5 314,-194.5\"/>\r\n",
       "<text text-anchor=\"middle\" x=\"249\" y=\"-179.3\" font-family=\"Helvetica,sans-Serif\" font-size=\"14.00\">country_840 &lt;= 0.5</text>\r\n",
       "<text text-anchor=\"middle\" x=\"249\" y=\"-164.3\" font-family=\"Helvetica,sans-Serif\" font-size=\"14.00\">gini = 0.372</text>\r\n",
       "<text text-anchor=\"middle\" x=\"249\" y=\"-149.3\" font-family=\"Helvetica,sans-Serif\" font-size=\"14.00\">samples = 60.7%</text>\r\n",
       "<text text-anchor=\"middle\" x=\"249\" y=\"-134.3\" font-family=\"Helvetica,sans-Serif\" font-size=\"14.00\">value = [0.247, 0.753]</text>\r\n",
       "<text text-anchor=\"middle\" x=\"249\" y=\"-119.3\" font-family=\"Helvetica,sans-Serif\" font-size=\"14.00\">class = Fraud</text>\r\n",
       "</g>\r\n",
       "<!-- 1&#45;&gt;2 -->\r\n",
       "<g id=\"edge2\" class=\"edge\"><title>1&#45;&gt;2</title>\r\n",
       "<path fill=\"none\" stroke=\"black\" d=\"M449.983,-233.175C413.267,-218.711 371.639,-202.312 335.829,-188.205\"/>\r\n",
       "<polygon fill=\"black\" stroke=\"black\" points=\"336.963,-184.89 326.376,-184.481 334.397,-191.403 336.963,-184.89\"/>\r\n",
       "</g>\r\n",
       "<!-- 5 -->\r\n",
       "<g id=\"node6\" class=\"node\"><title>5</title>\r\n",
       "<path fill=\"#e58139\" fill-opacity=\"0.639216\" stroke=\"black\" d=\"M635.5,-194.5C635.5,-194.5 456.5,-194.5 456.5,-194.5 450.5,-194.5 444.5,-188.5 444.5,-182.5 444.5,-182.5 444.5,-123.5 444.5,-123.5 444.5,-117.5 450.5,-111.5 456.5,-111.5 456.5,-111.5 635.5,-111.5 635.5,-111.5 641.5,-111.5 647.5,-117.5 647.5,-123.5 647.5,-123.5 647.5,-182.5 647.5,-182.5 647.5,-188.5 641.5,-194.5 635.5,-194.5\"/>\r\n",
       "<text text-anchor=\"middle\" x=\"546\" y=\"-179.3\" font-family=\"Helvetica,sans-Serif\" font-size=\"14.00\">transactionAmount &lt;= 19.244</text>\r\n",
       "<text text-anchor=\"middle\" x=\"546\" y=\"-164.3\" font-family=\"Helvetica,sans-Serif\" font-size=\"14.00\">gini = 0.389</text>\r\n",
       "<text text-anchor=\"middle\" x=\"546\" y=\"-149.3\" font-family=\"Helvetica,sans-Serif\" font-size=\"14.00\">samples = 7.7%</text>\r\n",
       "<text text-anchor=\"middle\" x=\"546\" y=\"-134.3\" font-family=\"Helvetica,sans-Serif\" font-size=\"14.00\">value = [0.735, 0.265]</text>\r\n",
       "<text text-anchor=\"middle\" x=\"546\" y=\"-119.3\" font-family=\"Helvetica,sans-Serif\" font-size=\"14.00\">class = NotFraud</text>\r\n",
       "</g>\r\n",
       "<!-- 1&#45;&gt;5 -->\r\n",
       "<g id=\"edge5\" class=\"edge\"><title>1&#45;&gt;5</title>\r\n",
       "<path fill=\"none\" stroke=\"black\" d=\"M546,-230.407C546,-222.149 546,-213.364 546,-204.802\"/>\r\n",
       "<polygon fill=\"black\" stroke=\"black\" points=\"549.5,-204.521 546,-194.521 542.5,-204.521 549.5,-204.521\"/>\r\n",
       "</g>\r\n",
       "<!-- 3 -->\r\n",
       "<g id=\"node4\" class=\"node\"><title>3</title>\r\n",
       "<path fill=\"#399de5\" fill-opacity=\"0.556863\" stroke=\"black\" d=\"M142,-68C142,-68 12,-68 12,-68 6,-68 0,-62 0,-56 0,-56 0,-12 0,-12 0,-6 6,-0 12,-0 12,-0 142,-0 142,-0 148,-0 154,-6 154,-12 154,-12 154,-56 154,-56 154,-62 148,-68 142,-68\"/>\r\n",
       "<text text-anchor=\"middle\" x=\"77\" y=\"-52.8\" font-family=\"Helvetica,sans-Serif\" font-size=\"14.00\">gini = 0.426</text>\r\n",
       "<text text-anchor=\"middle\" x=\"77\" y=\"-37.8\" font-family=\"Helvetica,sans-Serif\" font-size=\"14.00\">samples = 45.8%</text>\r\n",
       "<text text-anchor=\"middle\" x=\"77\" y=\"-22.8\" font-family=\"Helvetica,sans-Serif\" font-size=\"14.00\">value = [0.307, 0.693]</text>\r\n",
       "<text text-anchor=\"middle\" x=\"77\" y=\"-7.8\" font-family=\"Helvetica,sans-Serif\" font-size=\"14.00\">class = Fraud</text>\r\n",
       "</g>\r\n",
       "<!-- 2&#45;&gt;3 -->\r\n",
       "<g id=\"edge3\" class=\"edge\"><title>2&#45;&gt;3</title>\r\n",
       "<path fill=\"none\" stroke=\"black\" d=\"M189.325,-111.407C171.482,-99.2695 151.964,-85.9932 134.278,-73.9625\"/>\r\n",
       "<polygon fill=\"black\" stroke=\"black\" points=\"135.995,-70.8975 125.758,-68.1669 132.058,-76.6853 135.995,-70.8975\"/>\r\n",
       "</g>\r\n",
       "<!-- 4 -->\r\n",
       "<g id=\"node5\" class=\"node\"><title>4</title>\r\n",
       "<path fill=\"#399de5\" fill-opacity=\"0.933333\" stroke=\"black\" d=\"M314,-68C314,-68 184,-68 184,-68 178,-68 172,-62 172,-56 172,-56 172,-12 172,-12 172,-6 178,-0 184,-0 184,-0 314,-0 314,-0 320,-0 326,-6 326,-12 326,-12 326,-56 326,-56 326,-62 320,-68 314,-68\"/>\r\n",
       "<text text-anchor=\"middle\" x=\"249\" y=\"-52.8\" font-family=\"Helvetica,sans-Serif\" font-size=\"14.00\">gini = 0.117</text>\r\n",
       "<text text-anchor=\"middle\" x=\"249\" y=\"-37.8\" font-family=\"Helvetica,sans-Serif\" font-size=\"14.00\">samples = 14.9%</text>\r\n",
       "<text text-anchor=\"middle\" x=\"249\" y=\"-22.8\" font-family=\"Helvetica,sans-Serif\" font-size=\"14.00\">value = [0.062, 0.938]</text>\r\n",
       "<text text-anchor=\"middle\" x=\"249\" y=\"-7.8\" font-family=\"Helvetica,sans-Serif\" font-size=\"14.00\">class = Fraud</text>\r\n",
       "</g>\r\n",
       "<!-- 2&#45;&gt;4 -->\r\n",
       "<g id=\"edge4\" class=\"edge\"><title>2&#45;&gt;4</title>\r\n",
       "<path fill=\"none\" stroke=\"black\" d=\"M249,-111.407C249,-100.704 249,-89.1154 249,-78.2762\"/>\r\n",
       "<polygon fill=\"black\" stroke=\"black\" points=\"252.5,-78.1669 249,-68.1669 245.5,-78.167 252.5,-78.1669\"/>\r\n",
       "</g>\r\n",
       "<!-- 6 -->\r\n",
       "<g id=\"node7\" class=\"node\"><title>6</title>\r\n",
       "<path fill=\"#e58139\" fill-opacity=\"0.807843\" stroke=\"black\" d=\"M486,-68C486,-68 356,-68 356,-68 350,-68 344,-62 344,-56 344,-56 344,-12 344,-12 344,-6 350,-0 356,-0 356,-0 486,-0 486,-0 492,-0 498,-6 498,-12 498,-12 498,-56 498,-56 498,-62 492,-68 486,-68\"/>\r\n",
       "<text text-anchor=\"middle\" x=\"421\" y=\"-52.8\" font-family=\"Helvetica,sans-Serif\" font-size=\"14.00\">gini = 0.271</text>\r\n",
       "<text text-anchor=\"middle\" x=\"421\" y=\"-37.8\" font-family=\"Helvetica,sans-Serif\" font-size=\"14.00\">samples = 6.6%</text>\r\n",
       "<text text-anchor=\"middle\" x=\"421\" y=\"-22.8\" font-family=\"Helvetica,sans-Serif\" font-size=\"14.00\">value = [0.838, 0.162]</text>\r\n",
       "<text text-anchor=\"middle\" x=\"421\" y=\"-7.8\" font-family=\"Helvetica,sans-Serif\" font-size=\"14.00\">class = NotFraud</text>\r\n",
       "</g>\r\n",
       "<!-- 5&#45;&gt;6 -->\r\n",
       "<g id=\"edge6\" class=\"edge\"><title>5&#45;&gt;6</title>\r\n",
       "<path fill=\"none\" stroke=\"black\" d=\"M502.632,-111.407C490.136,-99.7109 476.51,-86.9573 464.034,-75.2797\"/>\r\n",
       "<polygon fill=\"black\" stroke=\"black\" points=\"466.127,-72.4452 456.435,-68.1669 461.344,-77.5558 466.127,-72.4452\"/>\r\n",
       "</g>\r\n",
       "<!-- 7 -->\r\n",
       "<g id=\"node8\" class=\"node\"><title>7</title>\r\n",
       "<path fill=\"#399de5\" fill-opacity=\"0.827451\" stroke=\"black\" d=\"M658,-68C658,-68 528,-68 528,-68 522,-68 516,-62 516,-56 516,-56 516,-12 516,-12 516,-6 522,-0 528,-0 528,-0 658,-0 658,-0 664,-0 670,-6 670,-12 670,-12 670,-56 670,-56 670,-62 664,-68 658,-68\"/>\r\n",
       "<text text-anchor=\"middle\" x=\"593\" y=\"-52.8\" font-family=\"Helvetica,sans-Serif\" font-size=\"14.00\">gini = 0.252</text>\r\n",
       "<text text-anchor=\"middle\" x=\"593\" y=\"-37.8\" font-family=\"Helvetica,sans-Serif\" font-size=\"14.00\">samples = 1.1%</text>\r\n",
       "<text text-anchor=\"middle\" x=\"593\" y=\"-22.8\" font-family=\"Helvetica,sans-Serif\" font-size=\"14.00\">value = [0.148, 0.852]</text>\r\n",
       "<text text-anchor=\"middle\" x=\"593\" y=\"-7.8\" font-family=\"Helvetica,sans-Serif\" font-size=\"14.00\">class = Fraud</text>\r\n",
       "</g>\r\n",
       "<!-- 5&#45;&gt;7 -->\r\n",
       "<g id=\"edge7\" class=\"edge\"><title>5&#45;&gt;7</title>\r\n",
       "<path fill=\"none\" stroke=\"black\" d=\"M562.306,-111.407C566.695,-100.483 571.453,-88.6371 575.884,-77.6067\"/>\r\n",
       "<polygon fill=\"black\" stroke=\"black\" points=\"579.197,-78.7509 579.677,-68.1669 572.701,-76.1416 579.197,-78.7509\"/>\r\n",
       "</g>\r\n",
       "<!-- 9 -->\r\n",
       "<g id=\"node10\" class=\"node\"><title>9</title>\r\n",
       "<path fill=\"#e58139\" fill-opacity=\"0.384314\" stroke=\"black\" d=\"M893,-194.5C893,-194.5 731,-194.5 731,-194.5 725,-194.5 719,-188.5 719,-182.5 719,-182.5 719,-123.5 719,-123.5 719,-117.5 725,-111.5 731,-111.5 731,-111.5 893,-111.5 893,-111.5 899,-111.5 905,-117.5 905,-123.5 905,-123.5 905,-182.5 905,-182.5 905,-188.5 899,-194.5 893,-194.5\"/>\r\n",
       "<text text-anchor=\"middle\" x=\"812\" y=\"-179.3\" font-family=\"Helvetica,sans-Serif\" font-size=\"14.00\">transactionAmount &lt;= 1.16</text>\r\n",
       "<text text-anchor=\"middle\" x=\"812\" y=\"-164.3\" font-family=\"Helvetica,sans-Serif\" font-size=\"14.00\">gini = 0.471</text>\r\n",
       "<text text-anchor=\"middle\" x=\"812\" y=\"-149.3\" font-family=\"Helvetica,sans-Serif\" font-size=\"14.00\">samples = 0.9%</text>\r\n",
       "<text text-anchor=\"middle\" x=\"812\" y=\"-134.3\" font-family=\"Helvetica,sans-Serif\" font-size=\"14.00\">value = [0.62, 0.38]</text>\r\n",
       "<text text-anchor=\"middle\" x=\"812\" y=\"-119.3\" font-family=\"Helvetica,sans-Serif\" font-size=\"14.00\">class = NotFraud</text>\r\n",
       "</g>\r\n",
       "<!-- 8&#45;&gt;9 -->\r\n",
       "<g id=\"edge9\" class=\"edge\"><title>8&#45;&gt;9</title>\r\n",
       "<path fill=\"none\" stroke=\"black\" d=\"M812,-230.407C812,-222.149 812,-213.364 812,-204.802\"/>\r\n",
       "<polygon fill=\"black\" stroke=\"black\" points=\"815.5,-204.521 812,-194.521 808.5,-204.521 815.5,-204.521\"/>\r\n",
       "</g>\r\n",
       "<!-- 12 -->\r\n",
       "<g id=\"node13\" class=\"node\"><title>12</title>\r\n",
       "<path fill=\"#e58139\" fill-opacity=\"0.972549\" stroke=\"black\" d=\"M1189,-194.5C1189,-194.5 1029,-194.5 1029,-194.5 1023,-194.5 1017,-188.5 1017,-182.5 1017,-182.5 1017,-123.5 1017,-123.5 1017,-117.5 1023,-111.5 1029,-111.5 1029,-111.5 1189,-111.5 1189,-111.5 1195,-111.5 1201,-117.5 1201,-123.5 1201,-123.5 1201,-182.5 1201,-182.5 1201,-188.5 1195,-194.5 1189,-194.5\"/>\r\n",
       "<text text-anchor=\"middle\" x=\"1109\" y=\"-179.3\" font-family=\"Helvetica,sans-Serif\" font-size=\"14.00\">accountNumber_y &lt;= 85.5</text>\r\n",
       "<text text-anchor=\"middle\" x=\"1109\" y=\"-164.3\" font-family=\"Helvetica,sans-Serif\" font-size=\"14.00\">gini = 0.049</text>\r\n",
       "<text text-anchor=\"middle\" x=\"1109\" y=\"-149.3\" font-family=\"Helvetica,sans-Serif\" font-size=\"14.00\">samples = 30.7%</text>\r\n",
       "<text text-anchor=\"middle\" x=\"1109\" y=\"-134.3\" font-family=\"Helvetica,sans-Serif\" font-size=\"14.00\">value = [0.975, 0.025]</text>\r\n",
       "<text text-anchor=\"middle\" x=\"1109\" y=\"-119.3\" font-family=\"Helvetica,sans-Serif\" font-size=\"14.00\">class = NotFraud</text>\r\n",
       "</g>\r\n",
       "<!-- 8&#45;&gt;12 -->\r\n",
       "<g id=\"edge12\" class=\"edge\"><title>8&#45;&gt;12</title>\r\n",
       "<path fill=\"none\" stroke=\"black\" d=\"M909.249,-232.69C940.737,-220.285 975.729,-206.501 1007.52,-193.978\"/>\r\n",
       "<polygon fill=\"black\" stroke=\"black\" points=\"1008.81,-197.231 1016.83,-190.309 1006.24,-190.718 1008.81,-197.231\"/>\r\n",
       "</g>\r\n",
       "<!-- 10 -->\r\n",
       "<g id=\"node11\" class=\"node\"><title>10</title>\r\n",
       "<path fill=\"#e58139\" fill-opacity=\"0.862745\" stroke=\"black\" d=\"M830,-68C830,-68 700,-68 700,-68 694,-68 688,-62 688,-56 688,-56 688,-12 688,-12 688,-6 694,-0 700,-0 700,-0 830,-0 830,-0 836,-0 842,-6 842,-12 842,-12 842,-56 842,-56 842,-62 836,-68 830,-68\"/>\r\n",
       "<text text-anchor=\"middle\" x=\"765\" y=\"-52.8\" font-family=\"Helvetica,sans-Serif\" font-size=\"14.00\">gini = 0.213</text>\r\n",
       "<text text-anchor=\"middle\" x=\"765\" y=\"-37.8\" font-family=\"Helvetica,sans-Serif\" font-size=\"14.00\">samples = 0.6%</text>\r\n",
       "<text text-anchor=\"middle\" x=\"765\" y=\"-22.8\" font-family=\"Helvetica,sans-Serif\" font-size=\"14.00\">value = [0.879, 0.121]</text>\r\n",
       "<text text-anchor=\"middle\" x=\"765\" y=\"-7.8\" font-family=\"Helvetica,sans-Serif\" font-size=\"14.00\">class = NotFraud</text>\r\n",
       "</g>\r\n",
       "<!-- 9&#45;&gt;10 -->\r\n",
       "<g id=\"edge10\" class=\"edge\"><title>9&#45;&gt;10</title>\r\n",
       "<path fill=\"none\" stroke=\"black\" d=\"M795.694,-111.407C791.305,-100.483 786.547,-88.6371 782.116,-77.6067\"/>\r\n",
       "<polygon fill=\"black\" stroke=\"black\" points=\"785.299,-76.1416 778.323,-68.1669 778.803,-78.7509 785.299,-76.1416\"/>\r\n",
       "</g>\r\n",
       "<!-- 11 -->\r\n",
       "<g id=\"node12\" class=\"node\"><title>11</title>\r\n",
       "<path fill=\"#399de5\" fill-opacity=\"0.768627\" stroke=\"black\" d=\"M1002,-68C1002,-68 872,-68 872,-68 866,-68 860,-62 860,-56 860,-56 860,-12 860,-12 860,-6 866,-0 872,-0 872,-0 1002,-0 1002,-0 1008,-0 1014,-6 1014,-12 1014,-12 1014,-56 1014,-56 1014,-62 1008,-68 1002,-68\"/>\r\n",
       "<text text-anchor=\"middle\" x=\"937\" y=\"-52.8\" font-family=\"Helvetica,sans-Serif\" font-size=\"14.00\">gini = 0.306</text>\r\n",
       "<text text-anchor=\"middle\" x=\"937\" y=\"-37.8\" font-family=\"Helvetica,sans-Serif\" font-size=\"14.00\">samples = 0.3%</text>\r\n",
       "<text text-anchor=\"middle\" x=\"937\" y=\"-22.8\" font-family=\"Helvetica,sans-Serif\" font-size=\"14.00\">value = [0.188, 0.812]</text>\r\n",
       "<text text-anchor=\"middle\" x=\"937\" y=\"-7.8\" font-family=\"Helvetica,sans-Serif\" font-size=\"14.00\">class = Fraud</text>\r\n",
       "</g>\r\n",
       "<!-- 9&#45;&gt;11 -->\r\n",
       "<g id=\"edge11\" class=\"edge\"><title>9&#45;&gt;11</title>\r\n",
       "<path fill=\"none\" stroke=\"black\" d=\"M855.368,-111.407C867.864,-99.7109 881.49,-86.9573 893.966,-75.2797\"/>\r\n",
       "<polygon fill=\"black\" stroke=\"black\" points=\"896.656,-77.5558 901.565,-68.1669 891.873,-72.4452 896.656,-77.5558\"/>\r\n",
       "</g>\r\n",
       "<!-- 13 -->\r\n",
       "<g id=\"node14\" class=\"node\"><title>13</title>\r\n",
       "<path fill=\"#e58139\" fill-opacity=\"0.760784\" stroke=\"black\" d=\"M1174,-68C1174,-68 1044,-68 1044,-68 1038,-68 1032,-62 1032,-56 1032,-56 1032,-12 1032,-12 1032,-6 1038,-0 1044,-0 1044,-0 1174,-0 1174,-0 1180,-0 1186,-6 1186,-12 1186,-12 1186,-56 1186,-56 1186,-62 1180,-68 1174,-68\"/>\r\n",
       "<text text-anchor=\"middle\" x=\"1109\" y=\"-52.8\" font-family=\"Helvetica,sans-Serif\" font-size=\"14.00\">gini = 0.312</text>\r\n",
       "<text text-anchor=\"middle\" x=\"1109\" y=\"-37.8\" font-family=\"Helvetica,sans-Serif\" font-size=\"14.00\">samples = 3.2%</text>\r\n",
       "<text text-anchor=\"middle\" x=\"1109\" y=\"-22.8\" font-family=\"Helvetica,sans-Serif\" font-size=\"14.00\">value = [0.806, 0.194]</text>\r\n",
       "<text text-anchor=\"middle\" x=\"1109\" y=\"-7.8\" font-family=\"Helvetica,sans-Serif\" font-size=\"14.00\">class = NotFraud</text>\r\n",
       "</g>\r\n",
       "<!-- 12&#45;&gt;13 -->\r\n",
       "<g id=\"edge13\" class=\"edge\"><title>12&#45;&gt;13</title>\r\n",
       "<path fill=\"none\" stroke=\"black\" d=\"M1109,-111.407C1109,-100.704 1109,-89.1154 1109,-78.2762\"/>\r\n",
       "<polygon fill=\"black\" stroke=\"black\" points=\"1112.5,-78.1669 1109,-68.1669 1105.5,-78.167 1112.5,-78.1669\"/>\r\n",
       "</g>\r\n",
       "<!-- 14 -->\r\n",
       "<g id=\"node15\" class=\"node\"><title>14</title>\r\n",
       "<path fill=\"#e58139\" fill-opacity=\"0.996078\" stroke=\"black\" d=\"M1346,-68C1346,-68 1216,-68 1216,-68 1210,-68 1204,-62 1204,-56 1204,-56 1204,-12 1204,-12 1204,-6 1210,-0 1216,-0 1216,-0 1346,-0 1346,-0 1352,-0 1358,-6 1358,-12 1358,-12 1358,-56 1358,-56 1358,-62 1352,-68 1346,-68\"/>\r\n",
       "<text text-anchor=\"middle\" x=\"1281\" y=\"-52.8\" font-family=\"Helvetica,sans-Serif\" font-size=\"14.00\">gini = 0.011</text>\r\n",
       "<text text-anchor=\"middle\" x=\"1281\" y=\"-37.8\" font-family=\"Helvetica,sans-Serif\" font-size=\"14.00\">samples = 27.4%</text>\r\n",
       "<text text-anchor=\"middle\" x=\"1281\" y=\"-22.8\" font-family=\"Helvetica,sans-Serif\" font-size=\"14.00\">value = [0.995, 0.005]</text>\r\n",
       "<text text-anchor=\"middle\" x=\"1281\" y=\"-7.8\" font-family=\"Helvetica,sans-Serif\" font-size=\"14.00\">class = NotFraud</text>\r\n",
       "</g>\r\n",
       "<!-- 12&#45;&gt;14 -->\r\n",
       "<g id=\"edge14\" class=\"edge\"><title>12&#45;&gt;14</title>\r\n",
       "<path fill=\"none\" stroke=\"black\" d=\"M1168.67,-111.407C1186.52,-99.2695 1206.04,-85.9932 1223.72,-73.9625\"/>\r\n",
       "<polygon fill=\"black\" stroke=\"black\" points=\"1225.94,-76.6853 1232.24,-68.1669 1222,-70.8975 1225.94,-76.6853\"/>\r\n",
       "</g>\r\n",
       "</g>\r\n",
       "</svg>\r\n"
      ],
      "text/plain": [
       "<graphviz.files.Source at 0x15db8599ac8>"
      ]
     },
     "execution_count": 797,
     "metadata": {},
     "output_type": "execute_result"
    }
   ],
   "source": [
    "from sklearn.tree import DecisionTreeClassifier, export_graphviz\n",
    "import graphviz\n",
    "dt = DecisionTreeClassifier(max_depth=3,min_samples_leaf=20,min_samples_split=20)\n",
    "dt.fit(X_train,y_train)\n",
    "new = export_graphviz(dt,feature_names=X_train.columns,class_names=['NotFraud','Fraud'],out_file=None,\n",
    "                proportion=True,leaves_parallel=True,filled=True,rounded=True)\n",
    "graph = graphviz.Source(new)\n",
    "graph"
   ]
  },
  {
   "cell_type": "code",
   "execution_count": 791,
   "metadata": {},
   "outputs": [
    {
     "data": {
      "image/png": "[encoded data removed]",
      "text/plain": [
       "<Figure size 360x360 with 2 Axes>"
      ]
     },
     "metadata": {},
     "output_type": "display_data"
    },
    {
     "name": "stdout",
     "output_type": "stream",
     "text": [
      "precision_score:  0.6910569105691057\n",
      "recall_score:  0.4857142857142857\n",
      "f1_score:  0.5704697986577181\n"
     ]
    }
   ],
   "source": [
    "# search for optimal parameter \n",
    "from sklearn.model_selection import GridSearchCV\n",
    "\n",
    "# base models\n",
    "from sklearn.naive_bayes import GaussianNB\n",
    "from sklearn.neighbors import KNeighborsClassifier\n",
    "from sklearn.linear_model import LogisticRegression\n",
    "from sklearn.tree import DecisionTreeClassifier\n",
    "\n",
    "# meta-models\n",
    "from sklearn.ensemble import RandomForestClassifier\n",
    "from sklearn.ensemble import AdaBoostClassifier\n",
    "rf_par = {'criterion':['gini','entropy']}\n",
    "rf = GridSearchCV(estimator= RandomForestClassifier(n_estimators=100),\n",
    "                  param_grid=rf_par,\n",
    "                  scoring='accuracy',\n",
    "                  n_jobs = -1,\n",
    "                  cv = 5)\n",
    "rf = rf.fit(X_train, y_train)\n",
    "y_pred = rf.predict(X_test)\n",
    "y_pred1 = rf.predict_proba(X_test)\n",
    "y_pro = y_pred1[:,1]\n",
    "from sklearn.metrics import confusion_matrix\n",
    "cm_lrc = confusion_matrix(y_test,y_pred)\n",
    "\n",
    "\n",
    "# cm visualization\n",
    "import seaborn as sns\n",
    "import matplotlib.pyplot as plt\n",
    "f, ax = plt.subplots(figsize =(5,5))\n",
    "sns.heatmap(cm_lrc,annot = True,linewidths=0.5,linecolor=\"red\",fmt = \".0f\",ax=ax)\n",
    "plt.title(\"Test for Test Dataset\")\n",
    "plt.xlabel(\"predicted y values\")\n",
    "plt.ylabel(\"real y values\")\n",
    "plt.show()\n",
    "\n",
    "from sklearn.metrics import precision_score, recall_score\n",
    "print(\"precision_score: \", precision_score(y_test,y_pred))\n",
    "print(\"recall_score: \", recall_score(y_test,y_pred))\n",
    "\n",
    "from sklearn.metrics import f1_score\n",
    "print(\"f1_score: \",f1_score(y_test,y_pred))\n"
   ]
  },
  {
   "cell_type": "code",
   "execution_count": 792,
   "metadata": {},
   "outputs": [
    {
     "data": {
      "image/png": "[encoded data removed]",
      "text/plain": [
       "<Figure size 432x288 with 1 Axes>"
      ]
     },
     "metadata": {},
     "output_type": "display_data"
    }
   ],
   "source": [
    "import sklearn.metrics as metrics\n",
    "# calculate the fpr and tpr for all thresholds of the classification\n",
    "fpr, tpr, threshold = metrics.roc_curve(y_test, y_pro)\n",
    "roc_auc = metrics.auc(fpr, tpr)\n",
    "import matplotlib.pyplot as plt\n",
    "plt.title('Receiver Operating Characteristic')\n",
    "plt.plot(fpr, tpr, 'b', label = 'AUC = %0.2f' % roc_auc)\n",
    "plt.legend(loc = 'lower right')\n",
    "plt.plot([0, 1], [0, 1],'r--')\n",
    "plt.xlim([0, 1])\n",
    "plt.ylim([0, 1])\n",
    "plt.ylabel('True Positive Rate')\n",
    "plt.xlabel('False Positive Rate')\n",
    "plt.show()\n",
    "# the auc seems to be very accurate"
   ]
  },
  {
   "cell_type": "code",
   "execution_count": 786,
   "metadata": {},
   "outputs": [
    {
     "name": "stdout",
     "output_type": "stream",
     "text": [
      "{'C': 10, 'penalty': 'l1'}\n",
      "precision_score:  0.0310122878876536\n",
      "recall_score:  0.9085714285714286\n",
      "f1_score:  0.05997736703130894\n",
      "The predictive accuracy is:  0.79\n",
      "The classification error is:  0.21\n",
      "The Confusion matrix: \n",
      "           Predict 0  Predict 1\n",
      "Actual 0      18582       4968\n",
      "Actual 1         16        159\n"
     ]
    }
   ],
   "source": [
    "from sklearn.linear_model import LogisticRegression \n",
    "from sklearn.feature_selection import RFE\n",
    "from sklearn.model_selection import GridSearchCV \n",
    "gslr = GridSearchCV(estimator=LogisticRegression(random_state=0),\n",
    "                  param_grid=[{'C': [0.01, 0.1 ,1 ,10 ,100],\n",
    "                             'penalty':['l1','l2']}],\n",
    "                  scoring='accuracy',\n",
    "                  cv=10)\n",
    "gslr_fit = gslr.fit(X_train, y_train)\n",
    "y_pred = gslr_fit.predict(X_test)\n",
    "y_pred1 = gslr_fit.predict_proba(X_test)\n",
    "y_pro = y_pred1[:,1]\n",
    "\n",
    "## best parameter\n",
    "print(gslr.best_params_)\n",
    "from sklearn.metrics import precision_score, recall_score\n",
    "print(\"precision_score: \", precision_score(y_test,y_pred))\n",
    "print(\"recall_score: \", recall_score(y_test,y_pred))\n",
    "\n",
    "from sklearn.metrics import f1_score\n",
    "print(\"f1_score: \",f1_score(y_test,y_pred))\n",
    "accuracy = sum(y_pred == y_test)/len(y_test)\n",
    "error = 1 - accuracy\n",
    "print(\"The predictive accuracy is: \", round(accuracy, 2))\n",
    "print(\"The classification error is: \", round(error, 2))\n",
    "\n",
    "# Confusion matrix\n",
    "from sklearn.metrics import confusion_matrix\n",
    "\n",
    "cnf_matrix = pd.DataFrame(confusion_matrix(y_test, y_pred), columns = ['Predict 0', 'Predict 1'], index = ['Actual 0', 'Actual 1'])\n",
    "print(\"The Confusion matrix: \\n\", cnf_matrix)\n"
   ]
  },
  {
   "cell_type": "code",
   "execution_count": null,
   "metadata": {},
   "outputs": [],
   "source": []
  }
 ],
 "metadata": {
  "kernelspec": {
   "display_name": "Python 3",
   "language": "python",
   "name": "python3"
  },
  "language_info": {
   "codemirror_mode": {
    "name": "ipython",
    "version": 3
   },
   "file_extension": ".py",
   "mimetype": "text/x-python",
   "name": "python",
   "nbconvert_exporter": "python",
   "pygments_lexer": "ipython3",
   "version": "3.6.5"
  }
 },
 "nbformat": 4,
 "nbformat_minor": 2
}
